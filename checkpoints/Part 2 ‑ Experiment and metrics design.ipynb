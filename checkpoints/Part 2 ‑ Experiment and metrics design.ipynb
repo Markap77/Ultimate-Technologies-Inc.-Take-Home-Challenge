{
 "cells": [
  {
   "cell_type": "markdown",
   "metadata": {},
   "source": [
    "The neighboring cities of Gotham and Metropolis have complementary circadian rhythms: on weekdays, Ultimate Gotham is most active at night, and Ultimate Metropolis is most active during the day. On weekends, there is reasonable activity in both cities.\n",
    "\n",
    "However, a toll bridge, with a two way toll, between the two cities causes driver partners to tend to be exclusive to each city. The Ultimate managers of city operations for the two cities have proposed an experiment to encourage driver partners to be available in both cities, by reimbursing all toll costs.\n",
    "\n",
    "What would you choose as the key measure of success of this experiment in encouraging driver partners to serve both cities, and why would you choose this metric?"
   ]
  },
  {
   "cell_type": "markdown",
   "metadata": {},
   "source": [
    "Answer: Since the Ultimate managers are looking to have driver partners be available in both cities, it would make sense to look at the change in the number of drivers that are in the city. They want to have equilibrium between the two cities, hence the reimbursment. The metric that would measure success would be the proportion of drivers in Gotham and Metropolis. "
   ]
  },
  {
   "cell_type": "markdown",
   "metadata": {},
   "source": [
    "Describe a practical experiment you would design to compare the effectiveness of the proposed change in relation to the key measure of success. Please provide details on:"
   ]
  },
  {
   "cell_type": "markdown",
   "metadata": {},
   "source": [
    "    a. how you will implement the experiment\n",
    "    b. what statistical test(s) you will conduct to verify the significance of the observation\n",
    "    c. how you would interpret the results and provide recommendations to the city operations team along with any caveats."
   ]
  },
  {
   "cell_type": "markdown",
   "metadata": {},
   "source": [
    "a. I would implement an A/B experiment where I first assign labels to the drivers and their asoociated city preferance. Then, I would randomley assign reimbursements to drivers in both cities. "
   ]
  },
  {
   "cell_type": "markdown",
   "metadata": {},
   "source": [
    "b. I would use hypothesis testing to evaluate the proportion. The null hypothesis would be that the random drivers would were reimbursed show no significant difference than the drivers that were not payed. The althernative hypothesis, thus, is that there is a significant difference between the drivers reimbursed and non-reimbursed drivers. \n"
   ]
  },
  {
   "cell_type": "markdown",
   "metadata": {},
   "source": [
    "c. Based off the results, I would or wouldn't recommend toll reimbursements. If the p-value is less than .05, I would reject the null hypothesis and recommend reimbursements. Other information to look out for is whether hours or days are affected by the reimbursements. "
   ]
  },
  {
   "cell_type": "code",
   "execution_count": null,
   "metadata": {},
   "outputs": [],
   "source": []
  }
 ],
 "metadata": {
  "kernelspec": {
   "display_name": "Python 3",
   "language": "python",
   "name": "python3"
  },
  "language_info": {
   "codemirror_mode": {
    "name": "ipython",
    "version": 3
   },
   "file_extension": ".py",
   "mimetype": "text/x-python",
   "name": "python",
   "nbconvert_exporter": "python",
   "pygments_lexer": "ipython3",
   "version": "3.8.5"
  }
 },
 "nbformat": 4,
 "nbformat_minor": 4
}
